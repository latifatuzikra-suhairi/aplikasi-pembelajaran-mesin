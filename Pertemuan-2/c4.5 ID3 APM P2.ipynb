{
 "cells": [
  {
   "cell_type": "code",
   "execution_count": 15,
   "id": "d2a44208",
   "metadata": {},
   "outputs": [],
   "source": [
    "import numpy as np\n",
    "import matplotlib.pyplot as plt\n",
    "%matplotlib inline"
   ]
  },
  {
   "cell_type": "code",
   "execution_count": 16,
   "id": "9dfd5379",
   "metadata": {},
   "outputs": [],
   "source": [
    "data_path = \"car_evaluation.csv\"\n",
    "data = np.genfromtxt(data_path, delimiter=\",\", dtype=str)\n",
    "labels = [\"buying\", \"maint\", \"doors\", \"persons\", \"lug_boot\", \"safety\", \"class\"]"
   ]
  },
  {
   "cell_type": "code",
   "execution_count": 27,
   "id": "7fdf59bb",
   "metadata": {},
   "outputs": [
    {
     "name": "stdout",
     "output_type": "stream",
     "text": [
      "records: 1728\n",
      "example record: ['vhigh' 'vhigh' '2' '2' 'small' 'low' 'unacc']\n",
      "\n",
      "columns:\n",
      "\n",
      "\tbuying: ['high' 'low' 'med' 'vhigh']\n",
      "\tmaint: ['high' 'low' 'med' 'vhigh']\n",
      "\tdoors: ['2' '3' '4' '5more']\n",
      "\tpersons: ['2' '4' 'more']\n",
      "\tlug_boot: ['big' 'med' 'small']\n",
      "\tsafety: ['high' 'low' 'med']\n",
      "\tclass: ['acc' 'good' 'unacc' 'vgood']\n"
     ]
    }
   ],
   "source": [
    "print(\"records: {}\".format(len(data)))\n",
    "print(\"example record: {}\".format(data[0]))\n",
    "print(\"\\ncolumns:\\n\")\n",
    "columns = []\n",
    "for col in range(len(data[0])):\n",
    "    print(\"\\t\" + labels[col] + \": {}\".format(np.unique(data[:,col])))\n",
    "    columns.append(np.unique(data[:,col]))"
   ]
  },
  {
   "cell_type": "code",
   "execution_count": 18,
   "id": "40a1dd86",
   "metadata": {},
   "outputs": [],
   "source": [
    "def weighted_entropy(data, col_num):\n",
    "    entropies = []\n",
    "    n_s = []\n",
    "    entropy_of_attribute = entropy(data[:,col_num])\n",
    "    for value in columns[col_num]:\n",
    "        candidate_child = data[data[:,col_num] == value]\n",
    "        n_s.append(len(candidate_child))\n",
    "        entropies.append(entropy(candidate_child[:,6]))\n",
    "    n_s = np.array(n_s)\n",
    "    n_s = n_s / np.sum(n_s)\n",
    "    weighted_entropy = n_s.dot(entropies)\n",
    "    return weighted_entropy, entropy_of_attribute\n",
    "    \n",
    "def entropy(data):\n",
    "    classes = np.unique(data)\n",
    "    n = len(data)\n",
    "    n_s = []\n",
    "    for class_ in classes:\n",
    "        n_s.append(len(data[data==class_]))\n",
    "    n_s = np.array(n_s)\n",
    "    n_s = n_s/n\n",
    "    n_s = n_s * np.log2(n_s)\n",
    "    return max(0,-np.sum(n_s))"
   ]
  },
  {
   "cell_type": "code",
   "execution_count": 28,
   "id": "64c46dd3",
   "metadata": {},
   "outputs": [
    {
     "name": "stdout",
     "output_type": "stream",
     "text": [
      "['acc' 'good' 'unacc' 'vgood']\n"
     ]
    }
   ],
   "source": [
    "def build_node(data, entropy, label, depth, class_=\"TBD\", parent=None):\n",
    "    new_node = dict()\n",
    "    new_node['data'] = data\n",
    "    new_node['entropy'] = entropy\n",
    "    new_node['label'] = label\n",
    "    new_node['depth'] = depth\n",
    "    new_node['class'] = class_\n",
    "    new_node['parent'] = parent\n",
    "    new_node['children'] = []\n",
    "    return new_node\n",
    "\n",
    "root = build_node(data, entropy(data[:,6]), \"all data\", 0)\n",
    "classes = np.unique(root['data'][:,6])\n",
    "print(classes)"
   ]
  },
  {
   "cell_type": "code",
   "execution_count": 20,
   "id": "d4d0edc9",
   "metadata": {},
   "outputs": [
    {
     "data": {
      "text/plain": [
       "('safety', 'unacc')"
      ]
     },
     "execution_count": 20,
     "metadata": {},
     "output_type": "execute_result"
    }
   ],
   "source": [
    "def find_best_split(node, c45 = False):\n",
    "    data = node['data']\n",
    "    entropy = node['entropy']\n",
    "    gains = []\n",
    "    for col_num in range(len(columns) - 1):\n",
    "        new_entropy, entropy_of_attribute = weighted_entropy(data, col_num)\n",
    "        if c45:\n",
    "            if entropy_of_attribute==0:\n",
    "                gains.append(0)\n",
    "            else:\n",
    "                gains.append((entropy - new_entropy) / (entropy_of_attribute))\n",
    "        else:\n",
    "            gains.append(entropy - new_entropy)\n",
    "    if np.max(gains) > 10**-3 :\n",
    "        best_attribute = np.argmax(gains)\n",
    "        return best_attribute\n",
    "    else:\n",
    "        return -1\n",
    "    \n",
    "def classify(node_data):\n",
    "    data = node_data[:, 6]\n",
    "    n_s = []\n",
    "    for class_ in classes:\n",
    "        n_s.append(len(data[data==class_]))\n",
    "    return columns[-1][np.argmax(n_s)]\n",
    "    \n",
    "labels[find_best_split(root)], classify(root['data'])"
   ]
  },
  {
   "cell_type": "code",
   "execution_count": 21,
   "id": "b76de5d4",
   "metadata": {},
   "outputs": [],
   "source": [
    "def build_tree(node, c45 = False, max_depth = 999, noisy=False):\n",
    "    next_split_attribute = find_best_split(node, c45)\n",
    "    if next_split_attribute == -1 or node['depth'] == max_depth:\n",
    "        node['class'] = classify(node['data'])\n",
    "        if noisy:\n",
    "            label = []\n",
    "            label.append(node['label'])\n",
    "            temp_parent = node\n",
    "            while temp_parent['parent']:\n",
    "                temp_parent = temp_parent['parent']\n",
    "                label.append(temp_parent['label'])\n",
    "            depth = node['depth']\n",
    "            for i, layer_label in enumerate(reversed(label)):\n",
    "                for _ in range(i):\n",
    "                    print(\"\\t\", end=\"\")\n",
    "                if i==depth:\n",
    "                    print(\"{} -> class {}\".format(layer_label, node['class']))\n",
    "                else:\n",
    "                    print(\"{}\".format(layer_label))\n",
    "                    \n",
    "    else:\n",
    "        for value in columns[next_split_attribute]:\n",
    "            data = node['data'][ node['data'][:, next_split_attribute] == value ]\n",
    "            entropy_ = entropy(data[:, 6])\n",
    "            new_node = build_node(data, entropy_, \"{} == {}\".format(\n",
    "                                            labels[next_split_attribute],value),\n",
    "                                            node['depth'] + 1, parent=node)\n",
    "            build_tree(new_node, c45, max_depth, noisy)\n",
    "            node['children'].append(new_node)"
   ]
  },
  {
   "cell_type": "code",
   "execution_count": 22,
   "id": "c280bcad",
   "metadata": {},
   "outputs": [
    {
     "data": {
      "text/plain": [
       "0.7002314814814815"
      ]
     },
     "execution_count": 22,
     "metadata": {},
     "output_type": "execute_result"
    }
   ],
   "source": [
    "def correct(decision_tree):\n",
    "    if not decision_tree['children']:\n",
    "        return np.sum(classify(decision_tree['data'])==decision_tree['data'][:,6])\n",
    "    else:\n",
    "        n_correct = 0\n",
    "        for child in decision_tree['children']:\n",
    "            n_correct += correct(child)\n",
    "    return n_correct\n",
    "\n",
    "correct(root)/1728"
   ]
  },
  {
   "cell_type": "code",
   "execution_count": 30,
   "id": "ae2433a8",
   "metadata": {},
   "outputs": [
    {
     "data": {
      "image/png": "[encoded data removed]",
      "text/plain": [
       "<Figure size 432x288 with 1 Axes>"
      ]
     },
     "metadata": {
      "needs_background": "light"
     },
     "output_type": "display_data"
    },
    {
     "data": {
      "image/png": "[encoded data removed]",
      "text/plain": [
       "<Figure size 432x288 with 1 Axes>"
      ]
     },
     "metadata": {
      "needs_background": "light"
     },
     "output_type": "display_data"
    },
    {
     "data": {
      "image/png": "[encoded data removed]",
      "text/plain": [
       "<Figure size 432x288 with 1 Axes>"
      ]
     },
     "metadata": {
      "needs_background": "light"
     },
     "output_type": "display_data"
    }
   ],
   "source": [
    "for safety in columns[5]:\n",
    "    plt.hist(data[data[:,5]==safety, 6])\n",
    "    plt.title(safety + \" safety\")\n",
    "    plt.show()"
   ]
  },
  {
   "cell_type": "code",
   "execution_count": 24,
   "id": "c2c10f7d",
   "metadata": {},
   "outputs": [
    {
     "name": "stdout",
     "output_type": "stream",
     "text": [
      "all data\n",
      "\tsafety == high -> class unacc\n",
      "all data\n",
      "\tsafety == low -> class unacc\n",
      "all data\n",
      "\tsafety == med -> class unacc\n",
      "\n",
      "Tree Accuracy: 0.7002314814814815\n"
     ]
    }
   ],
   "source": [
    "root = build_node(data, entropy(data[:,6]), \"all data\", 0)\n",
    "build_tree(root, max_depth=1,  noisy=True)\n",
    "print(\"\\nTree Accuracy: {}\".format(correct(root)/1728))"
   ]
  },
  {
   "cell_type": "code",
   "execution_count": 25,
   "id": "1ac43aa7",
   "metadata": {},
   "outputs": [
    {
     "name": "stdout",
     "output_type": "stream",
     "text": [
      "all data\n",
      "\tsafety == high\n",
      "\t\tpersons == 2 -> class unacc\n",
      "all data\n",
      "\tsafety == high\n",
      "\t\tpersons == 4 -> class acc\n",
      "all data\n",
      "\tsafety == high\n",
      "\t\tpersons == more -> class acc\n",
      "all data\n",
      "\tsafety == low -> class unacc\n",
      "all data\n",
      "\tsafety == med\n",
      "\t\tpersons == 2 -> class unacc\n",
      "all data\n",
      "\tsafety == med\n",
      "\t\tpersons == 4 -> class acc\n",
      "all data\n",
      "\tsafety == med\n",
      "\t\tpersons == more -> class acc\n",
      "\n",
      "Tree Accuracy: 0.7777777777777778\n"
     ]
    }
   ],
   "source": [
    "root = build_node(data, entropy(data[:,6]), \"all data\", 0)\n",
    "build_tree(root, max_depth=2,  noisy=True)\n",
    "print(\"\\nTree Accuracy: {}\".format(correct(root)/1728))"
   ]
  },
  {
   "cell_type": "code",
   "execution_count": 26,
   "id": "d175325e",
   "metadata": {},
   "outputs": [
    {
     "data": {
      "image/png": "[encoded data removed]",
      "text/plain": [
       "<Figure size 432x288 with 1 Axes>"
      ]
     },
     "metadata": {
      "needs_background": "light"
     },
     "output_type": "display_data"
    },
    {
     "data": {
      "image/png": "[encoded data removed]",
      "text/plain": [
       "<Figure size 432x288 with 1 Axes>"
      ]
     },
     "metadata": {
      "needs_background": "light"
     },
     "output_type": "display_data"
    },
    {
     "data": {
      "image/png": "[encoded data removed]",
      "text/plain": [
       "<Figure size 432x288 with 1 Axes>"
      ]
     },
     "metadata": {
      "needs_background": "light"
     },
     "output_type": "display_data"
    }
   ],
   "source": [
    "for persons in columns[3]:\n",
    "    indices1 = data[:,5]==\"high\"\n",
    "    indices2 = data[:,3]==persons\n",
    "    indices = np.alltrue([indices1,indices2], axis=0)\n",
    "    plt.hist(data[indices, 6])\n",
    "    plt.title(\"high safety and {} persons\".format(persons))\n",
    "    plt.show()"
   ]
  },
  {
   "cell_type": "code",
   "execution_count": 31,
   "id": "6303c1bf",
   "metadata": {},
   "outputs": [
    {
     "name": "stdout",
     "output_type": "stream",
     "text": [
      "Training Accuracy Comparison\n",
      "---------\n",
      " ID3    C4.5\n",
      "0.700   0.700\n",
      "0.700   0.700\n",
      "0.778   0.778\n",
      "0.819   0.824\n",
      "0.899   0.894\n",
      "0.964   0.964\n",
      "1.000   1.000\n"
     ]
    }
   ],
   "source": [
    "print(\"Training Accuracy Comparison\")\n",
    "print(\"---------\")\n",
    "print(\" ID3    C4.5\")\n",
    "for depth in range(7):\n",
    "    root = build_node(data, entropy(data[:,6]), \"all data\", 0)\n",
    "    build_tree(root, max_depth=depth, c45=False)\n",
    "    id3=correct(root)/1728\n",
    "    root = build_node(data, entropy(data[:,6]), \"all data\", 0)\n",
    "    build_tree(root, max_depth=depth, c45=True)\n",
    "    c45=correct(root)/1728\n",
    "    print('{:.3f} '.format(round(id3,3)), ' {:.3f}'.format(round(c45,3)))"
   ]
  },
  {
   "cell_type": "code",
   "execution_count": null,
   "id": "6d07c73c",
   "metadata": {},
   "outputs": [],
   "source": []
  }
 ],
 "metadata": {
  "kernelspec": {
   "display_name": "Python 3",
   "language": "python",
   "name": "python3"
  },
  "language_info": {
   "codemirror_mode": {
    "name": "ipython",
    "version": 3
   },
   "file_extension": ".py",
   "mimetype": "text/x-python",
   "name": "python",
   "nbconvert_exporter": "python",
   "pygments_lexer": "ipython3",
   "version": "3.8.8"
  }
 },
 "nbformat": 4,
 "nbformat_minor": 5
}
